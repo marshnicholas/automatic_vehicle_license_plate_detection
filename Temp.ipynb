{
 "cells": [
  {
   "cell_type": "code",
   "execution_count": 1,
   "id": "4d377e11",
   "metadata": {},
   "outputs": [
    {
     "name": "stderr",
     "output_type": "stream",
     "text": [
      "Using TensorFlow backend.\n"
     ]
    }
   ],
   "source": [
    "import cv2\n",
    "import matplotlib.pyplot as plt\n",
    "import tensorflow as tf\n",
    "from tqdm.notebook import tqdm\n",
    "from glob import glob\n",
    "from keras.layers import Flatten, Dense\n",
    "from keras.applications.vgg16 import VGG16\n",
    "import xml.etree.ElementTree as xet\n",
    "from keras.models import load_model, Sequential\n",
    "from sklearn.model_selection import train_test_split"
   ]
  },
  {
   "cell_type": "code",
   "execution_count": 2,
   "id": "da072629",
   "metadata": {},
   "outputs": [],
   "source": [
    "import pandas as pd\n",
    "import numpy as np"
   ]
  },
  {
   "cell_type": "code",
   "execution_count": 3,
   "id": "35e76173",
   "metadata": {},
   "outputs": [],
   "source": [
    "import os\n",
    "\n",
    "path = os.getcwd()+\"/archive/annotations\""
   ]
  },
  {
   "cell_type": "code",
   "execution_count": 4,
   "id": "ded13d3c",
   "metadata": {},
   "outputs": [],
   "source": [
    "labels=[]\n",
    "for filename in os.listdir(path):\n",
    "    data = xet.parse(path+\"/\"+filename)\n",
    "    root = data.getroot()\n",
    "    obj = root.find('object')\n",
    "    labels_info = obj.find('bndbox')\n",
    "    xmin = int(labels_info.find('xmin').text)\n",
    "    xmax = int(labels_info.find('xmax').text)\n",
    "    ymin = int(labels_info.find('ymin').text)\n",
    "    ymax = int(labels_info.find('ymax').text)\n",
    "    labels.append((filename,xmin,xmax,ymin,ymax))"
   ]
  },
  {
   "cell_type": "code",
   "execution_count": 5,
   "id": "a28ca135",
   "metadata": {},
   "outputs": [
    {
     "data": {
      "text/html": [
       "<div>\n",
       "<style scoped>\n",
       "    .dataframe tbody tr th:only-of-type {\n",
       "        vertical-align: middle;\n",
       "    }\n",
       "\n",
       "    .dataframe tbody tr th {\n",
       "        vertical-align: top;\n",
       "    }\n",
       "\n",
       "    .dataframe thead th {\n",
       "        text-align: right;\n",
       "    }\n",
       "</style>\n",
       "<table border=\"1\" class=\"dataframe\">\n",
       "  <thead>\n",
       "    <tr style=\"text-align: right;\">\n",
       "      <th></th>\n",
       "      <th>filepath</th>\n",
       "      <th>xmin</th>\n",
       "      <th>xmax</th>\n",
       "      <th>ymin</th>\n",
       "      <th>ymax</th>\n",
       "    </tr>\n",
       "  </thead>\n",
       "  <tbody>\n",
       "    <tr>\n",
       "      <th>0</th>\n",
       "      <td>Cars213.xml</td>\n",
       "      <td>150</td>\n",
       "      <td>233</td>\n",
       "      <td>160</td>\n",
       "      <td>194</td>\n",
       "    </tr>\n",
       "    <tr>\n",
       "      <th>1</th>\n",
       "      <td>Cars207.xml</td>\n",
       "      <td>254</td>\n",
       "      <td>372</td>\n",
       "      <td>229</td>\n",
       "      <td>264</td>\n",
       "    </tr>\n",
       "    <tr>\n",
       "      <th>2</th>\n",
       "      <td>Cars398.xml</td>\n",
       "      <td>72</td>\n",
       "      <td>196</td>\n",
       "      <td>139</td>\n",
       "      <td>222</td>\n",
       "    </tr>\n",
       "    <tr>\n",
       "      <th>3</th>\n",
       "      <td>Cars367.xml</td>\n",
       "      <td>224</td>\n",
       "      <td>382</td>\n",
       "      <td>161</td>\n",
       "      <td>222</td>\n",
       "    </tr>\n",
       "    <tr>\n",
       "      <th>4</th>\n",
       "      <td>Cars401.xml</td>\n",
       "      <td>158</td>\n",
       "      <td>238</td>\n",
       "      <td>223</td>\n",
       "      <td>240</td>\n",
       "    </tr>\n",
       "    <tr>\n",
       "      <th>...</th>\n",
       "      <td>...</td>\n",
       "      <td>...</td>\n",
       "      <td>...</td>\n",
       "      <td>...</td>\n",
       "      <td>...</td>\n",
       "    </tr>\n",
       "    <tr>\n",
       "      <th>428</th>\n",
       "      <td>Cars418.xml</td>\n",
       "      <td>99</td>\n",
       "      <td>303</td>\n",
       "      <td>70</td>\n",
       "      <td>155</td>\n",
       "    </tr>\n",
       "    <tr>\n",
       "      <th>429</th>\n",
       "      <td>Cars395.xml</td>\n",
       "      <td>241</td>\n",
       "      <td>288</td>\n",
       "      <td>182</td>\n",
       "      <td>205</td>\n",
       "    </tr>\n",
       "    <tr>\n",
       "      <th>430</th>\n",
       "      <td>Cars381.xml</td>\n",
       "      <td>65</td>\n",
       "      <td>147</td>\n",
       "      <td>131</td>\n",
       "      <td>155</td>\n",
       "    </tr>\n",
       "    <tr>\n",
       "      <th>431</th>\n",
       "      <td>Cars222.xml</td>\n",
       "      <td>178</td>\n",
       "      <td>235</td>\n",
       "      <td>158</td>\n",
       "      <td>170</td>\n",
       "    </tr>\n",
       "    <tr>\n",
       "      <th>432</th>\n",
       "      <td>Cars236.xml</td>\n",
       "      <td>223</td>\n",
       "      <td>250</td>\n",
       "      <td>106</td>\n",
       "      <td>119</td>\n",
       "    </tr>\n",
       "  </tbody>\n",
       "</table>\n",
       "<p>433 rows × 5 columns</p>\n",
       "</div>"
      ],
      "text/plain": [
       "        filepath  xmin  xmax  ymin  ymax\n",
       "0    Cars213.xml   150   233   160   194\n",
       "1    Cars207.xml   254   372   229   264\n",
       "2    Cars398.xml    72   196   139   222\n",
       "3    Cars367.xml   224   382   161   222\n",
       "4    Cars401.xml   158   238   223   240\n",
       "..           ...   ...   ...   ...   ...\n",
       "428  Cars418.xml    99   303    70   155\n",
       "429  Cars395.xml   241   288   182   205\n",
       "430  Cars381.xml    65   147   131   155\n",
       "431  Cars222.xml   178   235   158   170\n",
       "432  Cars236.xml   223   250   106   119\n",
       "\n",
       "[433 rows x 5 columns]"
      ]
     },
     "execution_count": 5,
     "metadata": {},
     "output_type": "execute_result"
    }
   ],
   "source": [
    "df = pd.DataFrame(labels)\n",
    "df.columns=[\"filepath\",\"xmin\",\"xmax\",\"ymin\",\"ymax\"]\n",
    "df"
   ]
  },
  {
   "cell_type": "code",
   "execution_count": 6,
   "id": "3a76cac4",
   "metadata": {},
   "outputs": [],
   "source": [
    "image_path=[]\n",
    "def load_images(directory):\n",
    "    images = []\n",
    "\n",
    "    for filepath in tqdm(os.listdir(directory)):\n",
    "        img_path = os.path.join(directory,filepath)\n",
    "        #print(img_path)\n",
    "        image_path.append(img_path)\n",
    "        img = cv2.imread(img_path)\n",
    "        img = cv2.cvtColor(img,cv2.COLOR_BGR2RGB)\n",
    "        img = cv2.resize(img,(224,224))\n",
    "        ### removes salt and pepper noise\n",
    "        img = cv2.medianBlur(img,5)\n",
    "        images.append(img)\n",
    "    \n",
    "    images = np.array(images).reshape(len(images),224,224,3)\n",
    "    return images"
   ]
  },
  {
   "cell_type": "code",
   "execution_count": 7,
   "id": "fdb2f9bb",
   "metadata": {},
   "outputs": [
    {
     "data": {
      "application/vnd.jupyter.widget-view+json": {
       "model_id": "9ec294d7dcf4487abb8a95a5fafd9ea1",
       "version_major": 2,
       "version_minor": 0
      },
      "text/plain": [
       "  0%|          | 0/433 [00:00<?, ?it/s]"
      ]
     },
     "metadata": {},
     "output_type": "display_data"
    }
   ],
   "source": [
    "images = load_images(os.getcwd()+\"/archive/images\")"
   ]
  },
  {
   "cell_type": "code",
   "execution_count": 8,
   "id": "dc15fb92",
   "metadata": {},
   "outputs": [],
   "source": [
    "bbox_coords = df.iloc[:,1:].values\n",
    "labels = []\n",
    "\n",
    "for ind in range(len(image_path)):\n",
    "    #print(ind)\n",
    "    image = image_path[ind]\n",
    "    img_arr = cv2.imread(image)\n",
    "    h,w,d = img_arr.shape\n",
    "    xmin,xmax,ymin,ymax = bbox_coords[ind]\n",
    "    nxmin, nxmax = int(xmin/(w/255.)), int(xmax/(w/255.))\n",
    "    nymin, nymax = int(ymin/(h/255.)), int(ymax/(h/255.))\n",
    "    labels.append((nxmin,nxmax,nymin,nymax))"
   ]
  },
  {
   "cell_type": "code",
   "execution_count": 9,
   "id": "cc38ab16",
   "metadata": {},
   "outputs": [
    {
     "data": {
      "text/plain": [
       "array([[ 95, 148,  85, 103],\n",
       "       [161, 237, 194, 224],\n",
       "       [ 45, 124, 123, 196],\n",
       "       ...,\n",
       "       [ 28,  63,  95, 112],\n",
       "       [113, 149, 228, 246],\n",
       "       [142, 159, 117, 131]])"
      ]
     },
     "execution_count": 9,
     "metadata": {},
     "output_type": "execute_result"
    }
   ],
   "source": [
    "labels = np.array(labels)\n",
    "labels"
   ]
  },
  {
   "cell_type": "code",
   "execution_count": 10,
   "id": "036d82b6",
   "metadata": {},
   "outputs": [],
   "source": [
    "X = np.array(images,dtype=np.float32)\n",
    "y = np.array(labels,dtype=np.float32)"
   ]
  },
  {
   "cell_type": "code",
   "execution_count": 11,
   "id": "b0886eb4",
   "metadata": {},
   "outputs": [],
   "source": [
    "X = X / 255.\n",
    "y = y / 255."
   ]
  },
  {
   "cell_type": "code",
   "execution_count": 12,
   "id": "40890706",
   "metadata": {},
   "outputs": [],
   "source": [
    "X_train, X_test, y_train, y_test = train_test_split(X,y,test_size=0.2,random_state=42)\n",
    "X_train, X_val, y_train, y_val = train_test_split(X_train,y_train,test_size=0.1,random_state=42)"
   ]
  },
  {
   "cell_type": "code",
   "execution_count": 13,
   "id": "9ad3c306",
   "metadata": {},
   "outputs": [
    {
     "name": "stderr",
     "output_type": "stream",
     "text": [
      "2022-11-13 22:49:09.467597: I tensorflow/core/platform/cpu_feature_guard.cc:145] This TensorFlow binary is optimized with Intel(R) MKL-DNN to use the following CPU instructions in performance critical operations:  SSE4.1 SSE4.2 AVX AVX2 FMA\n",
      "To enable them in non-MKL-DNN operations, rebuild TensorFlow with the appropriate compiler flags.\n",
      "2022-11-13 22:49:09.469534: I tensorflow/core/common_runtime/process_util.cc:115] Creating new thread pool with default inter op setting: 8. Tune using inter_op_parallelism_threads for best performance.\n"
     ]
    },
    {
     "name": "stdout",
     "output_type": "stream",
     "text": [
      "Model: \"sequential_1\"\n",
      "_________________________________________________________________\n",
      "Layer (type)                 Output Shape              Param #   \n",
      "=================================================================\n",
      "vgg16 (Model)                (None, 7, 7, 512)         14714688  \n",
      "_________________________________________________________________\n",
      "flatten_1 (Flatten)          (None, 25088)             0         \n",
      "_________________________________________________________________\n",
      "dense_1 (Dense)              (None, 128)               3211392   \n",
      "_________________________________________________________________\n",
      "dense_2 (Dense)              (None, 128)               16512     \n",
      "_________________________________________________________________\n",
      "dense_3 (Dense)              (None, 64)                8256      \n",
      "_________________________________________________________________\n",
      "dense_4 (Dense)              (None, 4)                 260       \n",
      "=================================================================\n",
      "Total params: 17,951,108\n",
      "Trainable params: 3,236,420\n",
      "Non-trainable params: 14,714,688\n",
      "_________________________________________________________________\n"
     ]
    }
   ],
   "source": [
    "model = Sequential()\n",
    "model.add(VGG16(weights=\"imagenet\", include_top=False, input_shape=(224, 224, 3)))\n",
    "model.add(Flatten())\n",
    "model.add(Dense(128, activation=\"relu\"))\n",
    "model.add(Dense(128, activation=\"relu\"))\n",
    "model.add(Dense(64, activation=\"relu\"))\n",
    "model.add(Dense(4, activation=\"sigmoid\"))\n",
    "\n",
    "model.layers[-6].trainable = False\n",
    "\n",
    "model.summary()"
   ]
  },
  {
   "cell_type": "code",
   "execution_count": 14,
   "id": "e753e122",
   "metadata": {},
   "outputs": [],
   "source": [
    "model.compile(loss='mean_squared_error', optimizer='adam', metrics=['accuracy'])"
   ]
  },
  {
   "cell_type": "code",
   "execution_count": 16,
   "id": "b856835d",
   "metadata": {},
   "outputs": [
    {
     "name": "stdout",
     "output_type": "stream",
     "text": [
      "Train on 311 samples, validate on 35 samples\n",
      "Epoch 1/20\n",
      "311/311 [==============================] - 103s 331ms/step - loss: 0.0825 - accuracy: 0.4341 - val_loss: 0.1011 - val_accuracy: 0.4571\n",
      "Epoch 2/20\n",
      "311/311 [==============================] - 102s 328ms/step - loss: 0.0454 - accuracy: 0.5563 - val_loss: 0.0776 - val_accuracy: 0.3714\n",
      "Epoch 3/20\n",
      "311/311 [==============================] - 101s 325ms/step - loss: 0.0350 - accuracy: 0.5595 - val_loss: 0.0983 - val_accuracy: 0.5143\n",
      "Epoch 4/20\n",
      "311/311 [==============================] - 102s 327ms/step - loss: 0.0262 - accuracy: 0.7170 - val_loss: 0.0778 - val_accuracy: 0.6000\n",
      "Epoch 5/20\n",
      "311/311 [==============================] - 104s 334ms/step - loss: 0.0204 - accuracy: 0.7395 - val_loss: 0.0889 - val_accuracy: 0.5143\n",
      "Epoch 6/20\n",
      "311/311 [==============================] - 101s 325ms/step - loss: 0.0168 - accuracy: 0.8328 - val_loss: 0.0951 - val_accuracy: 0.5714\n",
      "Epoch 7/20\n",
      "311/311 [==============================] - 1615s 5s/step - loss: 0.0151 - accuracy: 0.8553 - val_loss: 0.0888 - val_accuracy: 0.5429\n",
      "Epoch 8/20\n",
      "311/311 [==============================] - 101s 325ms/step - loss: 0.0157 - accuracy: 0.7974 - val_loss: 0.0881 - val_accuracy: 0.5429\n",
      "Epoch 9/20\n",
      "311/311 [==============================] - 101s 325ms/step - loss: 0.0145 - accuracy: 0.8585 - val_loss: 0.1016 - val_accuracy: 0.5714\n",
      "Epoch 10/20\n",
      "311/311 [==============================] - 102s 328ms/step - loss: 0.0130 - accuracy: 0.8392 - val_loss: 0.0886 - val_accuracy: 0.5429\n",
      "Epoch 11/20\n",
      "311/311 [==============================] - 101s 324ms/step - loss: 0.0150 - accuracy: 0.8489 - val_loss: 0.1088 - val_accuracy: 0.5143\n",
      "Epoch 12/20\n",
      "311/311 [==============================] - 101s 325ms/step - loss: 0.0144 - accuracy: 0.8521 - val_loss: 0.0981 - val_accuracy: 0.5143\n",
      "Epoch 13/20\n",
      "311/311 [==============================] - 104s 335ms/step - loss: 0.0137 - accuracy: 0.8006 - val_loss: 0.0929 - val_accuracy: 0.4857\n",
      "Epoch 14/20\n",
      "311/311 [==============================] - 101s 325ms/step - loss: 0.0132 - accuracy: 0.8489 - val_loss: 0.0948 - val_accuracy: 0.3714\n",
      "Epoch 15/20\n",
      "311/311 [==============================] - 101s 324ms/step - loss: 0.0122 - accuracy: 0.8392 - val_loss: 0.0934 - val_accuracy: 0.5429\n",
      "Epoch 16/20\n",
      "311/311 [==============================] - 102s 327ms/step - loss: 0.0123 - accuracy: 0.8103 - val_loss: 0.0952 - val_accuracy: 0.4857\n",
      "Epoch 17/20\n",
      "311/311 [==============================] - 101s 324ms/step - loss: 0.0116 - accuracy: 0.8682 - val_loss: 0.0989 - val_accuracy: 0.5143\n",
      "Epoch 18/20\n",
      "311/311 [==============================] - 102s 327ms/step - loss: 0.0115 - accuracy: 0.8617 - val_loss: 0.0991 - val_accuracy: 0.5143\n",
      "Epoch 19/20\n",
      "311/311 [==============================] - 101s 324ms/step - loss: 0.0112 - accuracy: 0.8650 - val_loss: 0.0936 - val_accuracy: 0.5143\n",
      "Epoch 20/20\n",
      "311/311 [==============================] - 102s 326ms/step - loss: 0.0114 - accuracy: 0.8617 - val_loss: 0.1001 - val_accuracy: 0.5143\n"
     ]
    }
   ],
   "source": [
    "r = model.fit(X_train,\n",
    "              y_train,\n",
    "              epochs=20,\n",
    "              batch_size=32,\n",
    "              validation_data=(X_val,y_val),\n",
    "              verbose=1)"
   ]
  },
  {
   "cell_type": "code",
   "execution_count": 17,
   "id": "2f03648a",
   "metadata": {},
   "outputs": [],
   "source": [
    "model.save('license_plate_detector.h5')"
   ]
  },
  {
   "cell_type": "code",
   "execution_count": 18,
   "id": "737662dd",
   "metadata": {},
   "outputs": [
    {
     "data": {
      "image/png": "[encoded data removed]",
      "text/plain": [
       "<Figure size 864x576 with 1 Axes>"
      ]
     },
     "metadata": {
      "needs_background": "light"
     },
     "output_type": "display_data"
    }
   ],
   "source": [
    "plt.figure(figsize=(12,8))\n",
    "plt.plot(r.history['accuracy'],'r',label='train accuracy')\n",
    "plt.plot(r.history['val_accuracy'],'b',label='validation accuracy')\n",
    "plt.xlabel('No. of Epochs')\n",
    "plt.ylabel('Accuracy')\n",
    "plt.title('Accuracy Graph')\n",
    "plt.legend();"
   ]
  }
 ],
 "metadata": {
  "kernelspec": {
   "display_name": "Python 3 (ipykernel)",
   "language": "python",
   "name": "python3"
  },
  "language_info": {
   "codemirror_mode": {
    "name": "ipython",
    "version": 3
   },
   "file_extension": ".py",
   "mimetype": "text/x-python",
   "name": "python",
   "nbconvert_exporter": "python",
   "pygments_lexer": "ipython3",
   "version": "3.7.11"
  }
 },
 "nbformat": 4,
 "nbformat_minor": 5
}
